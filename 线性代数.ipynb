{
  "nbformat": 4,
  "nbformat_minor": 0,
  "metadata": {
    "colab": {
      "name": "线性代数.ipynb",
      "provenance": [],
      "authorship_tag": "ABX9TyP+eH4DpdwSDOyYuSN1+5Ws",
      "include_colab_link": true
    },
    "kernelspec": {
      "name": "python3",
      "display_name": "Python 3"
    },
    "language_info": {
      "name": "python"
    },
    "accelerator": "GPU"
  },
  "cells": [
    {
      "cell_type": "markdown",
      "metadata": {
        "id": "view-in-github",
        "colab_type": "text"
      },
      "source": [
        "<a href=\"https://colab.research.google.com/github/Melo987/-v2/blob/main/%E7%BA%BF%E6%80%A7%E4%BB%A3%E6%95%B0.ipynb\" target=\"_parent\"><img src=\"https://colab.research.google.com/assets/colab-badge.svg\" alt=\"Open In Colab\"/></a>"
      ]
    },
    {
      "cell_type": "code",
      "execution_count": 1,
      "metadata": {
        "id": "LnAXg8iLyd3m"
      },
      "outputs": [],
      "source": [
        "# 线性代数"
      ]
    },
    {
      "cell_type": "code",
      "source": [
        "import torch"
      ],
      "metadata": {
        "id": "qGA55FAp29Wm"
      },
      "execution_count": 2,
      "outputs": []
    },
    {
      "cell_type": "code",
      "source": [
        "# 标量由只有一个元素的张量表示\n",
        "x = torch.tensor([3.0])\n",
        "y = torch.tensor([2.0])\n",
        "x+y,x-y,x*y,x/y,x**y"
      ],
      "metadata": {
        "colab": {
          "base_uri": "https://localhost:8080/"
        },
        "id": "SXpixC422tSe",
        "outputId": "ea9d7259-d704-431a-d42f-8b2bc8e014f5"
      },
      "execution_count": null,
      "outputs": [
        {
          "output_type": "execute_result",
          "data": {
            "text/plain": [
              "(tensor([5.]), tensor([1.]), tensor([6.]), tensor([1.5000]), tensor([9.]))"
            ]
          },
          "metadata": {},
          "execution_count": 4
        }
      ]
    },
    {
      "cell_type": "code",
      "source": [
        "# 可以将向量视为标量值组成的列表\n",
        "x = torch.arange(4)\n",
        "x"
      ],
      "metadata": {
        "colab": {
          "base_uri": "https://localhost:8080/"
        },
        "id": "T8_CVZSZ3QtJ",
        "outputId": "ad0d373d-ad25-4c2d-bf23-e5af464f5eab"
      },
      "execution_count": null,
      "outputs": [
        {
          "output_type": "execute_result",
          "data": {
            "text/plain": [
              "tensor([0, 1, 2, 3])"
            ]
          },
          "metadata": {},
          "execution_count": 5
        }
      ]
    },
    {
      "cell_type": "code",
      "source": [
        "# 通过张量的索引来访问任意元素\n",
        "x[3]"
      ],
      "metadata": {
        "colab": {
          "base_uri": "https://localhost:8080/"
        },
        "id": "qgPGbxBr34Om",
        "outputId": "ae18e404-ca03-4884-a9a6-9ea269529ccd"
      },
      "execution_count": null,
      "outputs": [
        {
          "output_type": "execute_result",
          "data": {
            "text/plain": [
              "tensor(3)"
            ]
          },
          "metadata": {},
          "execution_count": 6
        }
      ]
    },
    {
      "cell_type": "code",
      "source": [
        "# 访问张量的长度\n",
        "len(x)"
      ],
      "metadata": {
        "colab": {
          "base_uri": "https://localhost:8080/"
        },
        "id": "jkGaQvep4AY5",
        "outputId": "532cd6d9-4b55-4697-fb8c-d0e43435ef06"
      },
      "execution_count": null,
      "outputs": [
        {
          "output_type": "execute_result",
          "data": {
            "text/plain": [
              "4"
            ]
          },
          "metadata": {},
          "execution_count": 7
        }
      ]
    },
    {
      "cell_type": "code",
      "source": [
        "v = torch.arange(24).reshape(2,3,4)\n",
        "len(v)   # 三维张量的长度"
      ],
      "metadata": {
        "colab": {
          "base_uri": "https://localhost:8080/"
        },
        "id": "Ufx6k1h_E1hX",
        "outputId": "7a658b0e-80ad-4a17-ae58-7ede373d720d"
      },
      "execution_count": 3,
      "outputs": [
        {
          "output_type": "execute_result",
          "data": {
            "text/plain": [
              "2"
            ]
          },
          "metadata": {},
          "execution_count": 3
        }
      ]
    },
    {
      "cell_type": "code",
      "source": [
        "# 只有一个轴的张量，形状只有一个元素\n",
        "x.shape"
      ],
      "metadata": {
        "colab": {
          "base_uri": "https://localhost:8080/"
        },
        "id": "cGrWSavi4USR",
        "outputId": "4bff9a31-e7e9-44fb-96cf-e87c63c193f3"
      },
      "execution_count": null,
      "outputs": [
        {
          "output_type": "execute_result",
          "data": {
            "text/plain": [
              "torch.Size([4])"
            ]
          },
          "metadata": {},
          "execution_count": 8
        }
      ]
    },
    {
      "cell_type": "code",
      "source": [
        "# 通过指定两个分量m和n来创建一个形状为m*n的矩阵\n",
        "A = torch.arange(20).reshape(5,4)\n",
        "A"
      ],
      "metadata": {
        "colab": {
          "base_uri": "https://localhost:8080/"
        },
        "id": "wprxM3Mn4bN-",
        "outputId": "003cd867-5dd0-4c1f-bfe5-a7af75f06ea3"
      },
      "execution_count": null,
      "outputs": [
        {
          "output_type": "execute_result",
          "data": {
            "text/plain": [
              "tensor([[ 0,  1,  2,  3],\n",
              "        [ 4,  5,  6,  7],\n",
              "        [ 8,  9, 10, 11],\n",
              "        [12, 13, 14, 15],\n",
              "        [16, 17, 18, 19]])"
            ]
          },
          "metadata": {},
          "execution_count": 11
        }
      ]
    },
    {
      "cell_type": "code",
      "source": [
        "# 矩阵的转置\n",
        "A.T"
      ],
      "metadata": {
        "colab": {
          "base_uri": "https://localhost:8080/"
        },
        "id": "0PPd2ewd4x-_",
        "outputId": "e0352f85-d631-4bf6-f1a9-4ed8ff5b2d7c"
      },
      "execution_count": null,
      "outputs": [
        {
          "output_type": "execute_result",
          "data": {
            "text/plain": [
              "tensor([[ 0,  4,  8, 12, 16],\n",
              "        [ 1,  5,  9, 13, 17],\n",
              "        [ 2,  6, 10, 14, 18],\n",
              "        [ 3,  7, 11, 15, 19]])"
            ]
          },
          "metadata": {},
          "execution_count": 12
        }
      ]
    },
    {
      "cell_type": "code",
      "source": [
        "# 对称矩阵 A等于其转置：A=A.T\n",
        "B = torch.tensor([[1,2,3],[2,0,4],[3,4,5]])\n",
        "B"
      ],
      "metadata": {
        "colab": {
          "base_uri": "https://localhost:8080/"
        },
        "id": "azrHYymE45dH",
        "outputId": "2d4e0c1a-afc8-425d-ae60-00846da5827a"
      },
      "execution_count": null,
      "outputs": [
        {
          "output_type": "execute_result",
          "data": {
            "text/plain": [
              "tensor([[1, 2, 3],\n",
              "        [2, 0, 4],\n",
              "        [3, 4, 5]])"
            ]
          },
          "metadata": {},
          "execution_count": 13
        }
      ]
    },
    {
      "cell_type": "code",
      "source": [
        "B == B.T"
      ],
      "metadata": {
        "colab": {
          "base_uri": "https://localhost:8080/"
        },
        "id": "IPDOivHO5Vfp",
        "outputId": "f7974f99-66e9-48a4-b418-cc5666c3971f"
      },
      "execution_count": null,
      "outputs": [
        {
          "output_type": "execute_result",
          "data": {
            "text/plain": [
              "tensor([[True, True, True],\n",
              "        [True, True, True],\n",
              "        [True, True, True]])"
            ]
          },
          "metadata": {},
          "execution_count": 14
        }
      ]
    },
    {
      "cell_type": "code",
      "source": [
        "# 向量是标量的推广，矩阵是向量的推广，可以构建具有更多轴的数据结构\n",
        "X = torch.arange(24).reshape(2,3,4)\n",
        "X"
      ],
      "metadata": {
        "colab": {
          "base_uri": "https://localhost:8080/"
        },
        "id": "OlLKylUr5ZbW",
        "outputId": "224f4a3f-d701-410a-a196-6ce1e0f02c2f"
      },
      "execution_count": null,
      "outputs": [
        {
          "output_type": "execute_result",
          "data": {
            "text/plain": [
              "tensor([[[ 0,  1,  2,  3],\n",
              "         [ 4,  5,  6,  7],\n",
              "         [ 8,  9, 10, 11]],\n",
              "\n",
              "        [[12, 13, 14, 15],\n",
              "         [16, 17, 18, 19],\n",
              "         [20, 21, 22, 23]]])"
            ]
          },
          "metadata": {},
          "execution_count": 15
        }
      ]
    },
    {
      "cell_type": "code",
      "source": [
        "# 给定具有相同形状的任何两个张量，任何按元素二元运算的结果都是相同形状的张量\n",
        "A = torch.arange(20,dtype=torch.float32).reshape(5,4)\n",
        "B = A.clone()  # 通过分配新内存，将A 的一个副本分配给B\n",
        "A,A+B"
      ],
      "metadata": {
        "colab": {
          "base_uri": "https://localhost:8080/"
        },
        "id": "R2vv9j6y57nq",
        "outputId": "e58d9891-e0a2-4536-afc6-36eb1519d64c"
      },
      "execution_count": null,
      "outputs": [
        {
          "output_type": "execute_result",
          "data": {
            "text/plain": [
              "(tensor([[ 0.,  1.,  2.,  3.],\n",
              "         [ 4.,  5.,  6.,  7.],\n",
              "         [ 8.,  9., 10., 11.],\n",
              "         [12., 13., 14., 15.],\n",
              "         [16., 17., 18., 19.]]), tensor([[ 0.,  2.,  4.,  6.],\n",
              "         [ 8., 10., 12., 14.],\n",
              "         [16., 18., 20., 22.],\n",
              "         [24., 26., 28., 30.],\n",
              "         [32., 34., 36., 38.]]))"
            ]
          },
          "metadata": {},
          "execution_count": 16
        }
      ]
    },
    {
      "cell_type": "code",
      "source": [
        "# 两个矩阵的按元素乘法称为  哈达玛积\n",
        "A*B"
      ],
      "metadata": {
        "colab": {
          "base_uri": "https://localhost:8080/"
        },
        "id": "BZiPa3cA6xnB",
        "outputId": "0844c55a-b279-4783-9498-0d50747812f5"
      },
      "execution_count": null,
      "outputs": [
        {
          "output_type": "execute_result",
          "data": {
            "text/plain": [
              "tensor([[  0.,   1.,   4.,   9.],\n",
              "        [ 16.,  25.,  36.,  49.],\n",
              "        [ 64.,  81., 100., 121.],\n",
              "        [144., 169., 196., 225.],\n",
              "        [256., 289., 324., 361.]])"
            ]
          },
          "metadata": {},
          "execution_count": 17
        }
      ]
    },
    {
      "cell_type": "code",
      "source": [
        "a = 2\n",
        "X = torch.arange(24).reshape(2,3,4)\n",
        "a + X,(a * X).shape"
      ],
      "metadata": {
        "colab": {
          "base_uri": "https://localhost:8080/"
        },
        "id": "BuDI3jwQ7S97",
        "outputId": "832488d2-97f0-42f3-dc3c-97d92a0f1a6f"
      },
      "execution_count": null,
      "outputs": [
        {
          "output_type": "execute_result",
          "data": {
            "text/plain": [
              "(tensor([[[ 2,  3,  4,  5],\n",
              "          [ 6,  7,  8,  9],\n",
              "          [10, 11, 12, 13]],\n",
              " \n",
              "         [[14, 15, 16, 17],\n",
              "          [18, 19, 20, 21],\n",
              "          [22, 23, 24, 25]]]), torch.Size([2, 3, 4]))"
            ]
          },
          "metadata": {},
          "execution_count": 18
        }
      ]
    },
    {
      "cell_type": "code",
      "source": [
        "# 计算其元素的和\n",
        "x = torch.arange(4,dtype=torch.float32)\n",
        "x,x.sum()"
      ],
      "metadata": {
        "colab": {
          "base_uri": "https://localhost:8080/"
        },
        "id": "mEcMXKZv7hGV",
        "outputId": "1b0f0dac-f051-4f51-b29c-5dbd7ca2f57b"
      },
      "execution_count": null,
      "outputs": [
        {
          "output_type": "execute_result",
          "data": {
            "text/plain": [
              "(tensor([0., 1., 2., 3.]), tensor(6.))"
            ]
          },
          "metadata": {},
          "execution_count": 6
        }
      ]
    },
    {
      "cell_type": "code",
      "source": [
        "# 表示任意形状张量的元素和\n",
        "A = torch.arange(20).reshape(5,4)\n",
        "A.shape,A.sum()"
      ],
      "metadata": {
        "colab": {
          "base_uri": "https://localhost:8080/"
        },
        "id": "Nng2qitm758N",
        "outputId": "26f475fd-b3b8-4322-95c1-f776970c773d"
      },
      "execution_count": null,
      "outputs": [
        {
          "output_type": "execute_result",
          "data": {
            "text/plain": [
              "(torch.Size([5, 4]), tensor(190))"
            ]
          },
          "metadata": {},
          "execution_count": 6
        }
      ]
    },
    {
      "cell_type": "code",
      "source": [
        "# 指定求和汇总张量的轴 \n",
        "A_sum_axis0 = A.sum(axis=0)   # axis=0 0轴，按列求和\n",
        "A_sum_axis0,A_sum_axis0.shape"
      ],
      "metadata": {
        "id": "e5LtXiX38RdO",
        "outputId": "eb73247c-b3a0-491a-fe5a-3f5bb09fb0d9",
        "colab": {
          "base_uri": "https://localhost:8080/"
        }
      },
      "execution_count": null,
      "outputs": [
        {
          "output_type": "execute_result",
          "data": {
            "text/plain": [
              "(tensor([40, 45, 50, 55]), torch.Size([4]))"
            ]
          },
          "metadata": {},
          "execution_count": 7
        }
      ]
    },
    {
      "cell_type": "code",
      "source": [
        "A_sum_axis1 = A.sum(axis=1)    # 按行求和\n",
        "A_sum_axis1,A_sum_axis1.shape"
      ],
      "metadata": {
        "id": "s-24uA42bvH9",
        "outputId": "925fab9f-9640-4f6d-a384-01f3dbac1877",
        "colab": {
          "base_uri": "https://localhost:8080/"
        }
      },
      "execution_count": null,
      "outputs": [
        {
          "output_type": "execute_result",
          "data": {
            "text/plain": [
              "(tensor([ 6, 22, 38, 54, 70]), torch.Size([5]))"
            ]
          },
          "metadata": {},
          "execution_count": 8
        }
      ]
    },
    {
      "cell_type": "code",
      "source": [
        "B = torch.arange(40).reshape(2,5,4)\n",
        "B"
      ],
      "metadata": {
        "id": "KoRrYguVcM37",
        "outputId": "91b7b36e-0f23-43fa-e8d3-0a42ed633f1a",
        "colab": {
          "base_uri": "https://localhost:8080/"
        }
      },
      "execution_count": 4,
      "outputs": [
        {
          "output_type": "execute_result",
          "data": {
            "text/plain": [
              "tensor([[[ 0,  1,  2,  3],\n",
              "         [ 4,  5,  6,  7],\n",
              "         [ 8,  9, 10, 11],\n",
              "         [12, 13, 14, 15],\n",
              "         [16, 17, 18, 19]],\n",
              "\n",
              "        [[20, 21, 22, 23],\n",
              "         [24, 25, 26, 27],\n",
              "         [28, 29, 30, 31],\n",
              "         [32, 33, 34, 35],\n",
              "         [36, 37, 38, 39]]])"
            ]
          },
          "metadata": {},
          "execution_count": 4
        }
      ]
    },
    {
      "cell_type": "code",
      "source": [
        "B_sum_axis0 = B.sum(axis=0)   #按二维的元素求和，即两个矩阵对应位置元素求和\n",
        "B_sum_axis0,B_sum_axis0.shape"
      ],
      "metadata": {
        "id": "Cu-HT9ZEcVBv",
        "outputId": "4f1623e9-ec45-44d2-f199-c60fd88ea524",
        "colab": {
          "base_uri": "https://localhost:8080/"
        }
      },
      "execution_count": null,
      "outputs": [
        {
          "output_type": "execute_result",
          "data": {
            "text/plain": [
              "(tensor([[20, 22, 24, 26],\n",
              "         [28, 30, 32, 34],\n",
              "         [36, 38, 40, 42],\n",
              "         [44, 46, 48, 50],\n",
              "         [52, 54, 56, 58]]), torch.Size([5, 4]))"
            ]
          },
          "metadata": {},
          "execution_count": 16
        }
      ]
    },
    {
      "cell_type": "code",
      "source": [
        "B_sum_axis1 = B.sum(axis=1)   # 两个矩阵分别分别按列求和，结果是二维\n",
        "B_sum_axis1,B_sum_axis1.shape"
      ],
      "metadata": {
        "id": "enUl57BAcoO6",
        "outputId": "6acfa65d-e63f-49dd-c6e0-b074b2d8ffbe",
        "colab": {
          "base_uri": "https://localhost:8080/"
        }
      },
      "execution_count": null,
      "outputs": [
        {
          "output_type": "execute_result",
          "data": {
            "text/plain": [
              "(tensor([[ 40,  45,  50,  55],\n",
              "         [140, 145, 150, 155]]), torch.Size([2, 4]))"
            ]
          },
          "metadata": {},
          "execution_count": 17
        }
      ]
    },
    {
      "cell_type": "code",
      "source": [
        "B.sum(axis=[0,1]),B.sum(axis=[0,1]).shape   #两个矩阵按列求和"
      ],
      "metadata": {
        "id": "Hk47u1Byen48",
        "outputId": "dd7bebee-ac1a-4a5a-ed12-7f1f6519ced2",
        "colab": {
          "base_uri": "https://localhost:8080/"
        }
      },
      "execution_count": null,
      "outputs": [
        {
          "output_type": "execute_result",
          "data": {
            "text/plain": [
              "(tensor([180, 190, 200, 210]), torch.Size([4]))"
            ]
          },
          "metadata": {},
          "execution_count": 19
        }
      ]
    },
    {
      "cell_type": "code",
      "source": [
        "B.sum(axis=[1,2]),B.sum(axis=[1,2]).shape  # (5,4)求和，即两个矩阵分别求和"
      ],
      "metadata": {
        "id": "LsSRrwCHhUCv",
        "outputId": "0959be37-0370-4d3d-8af0-66534f440d8e",
        "colab": {
          "base_uri": "https://localhost:8080/"
        }
      },
      "execution_count": null,
      "outputs": [
        {
          "output_type": "execute_result",
          "data": {
            "text/plain": [
              "(tensor([190, 590]), torch.Size([2]))"
            ]
          },
          "metadata": {},
          "execution_count": 4
        }
      ]
    },
    {
      "cell_type": "code",
      "source": [
        "# 一个与求和相关的量是 平均值 （mean或average）\n",
        "A = torch.arange(20,dtype=torch.float32).reshape(5,4)\n",
        "A.mean(),A.sum()/A.numel(),A.numel()"
      ],
      "metadata": {
        "id": "EQT96s_yhAqw",
        "outputId": "8b482f5e-39ff-4a4a-f1c0-24aaf8cc3a24",
        "colab": {
          "base_uri": "https://localhost:8080/"
        }
      },
      "execution_count": 5,
      "outputs": [
        {
          "output_type": "execute_result",
          "data": {
            "text/plain": [
              "(tensor(9.5000), tensor(9.5000), 20)"
            ]
          },
          "metadata": {},
          "execution_count": 5
        }
      ]
    },
    {
      "cell_type": "code",
      "source": [
        "A.mean(axis=0),A.sum(axis=0) / A.shape[0]"
      ],
      "metadata": {
        "id": "eWYrW8jUjmmT",
        "outputId": "a2e13620-7990-4559-d67c-e6a431be580f",
        "colab": {
          "base_uri": "https://localhost:8080/"
        }
      },
      "execution_count": null,
      "outputs": [
        {
          "output_type": "execute_result",
          "data": {
            "text/plain": [
              "(tensor([ 8.,  9., 10., 11.]), tensor([ 8.,  9., 10., 11.]))"
            ]
          },
          "metadata": {},
          "execution_count": 29
        }
      ]
    },
    {
      "cell_type": "code",
      "source": [
        "# 计算总和或均值时保持轴数不变\n",
        "sum_A = A.sum(axis=1,keepdims=True)\n",
        "sum_A,sum_A.shape"
      ],
      "metadata": {
        "id": "5k1qQEbpjzuK",
        "outputId": "28b0260e-747a-466a-bd0a-2ace778a08a2",
        "colab": {
          "base_uri": "https://localhost:8080/"
        }
      },
      "execution_count": null,
      "outputs": [
        {
          "output_type": "execute_result",
          "data": {
            "text/plain": [
              "(tensor([[ 6.],\n",
              "         [22.],\n",
              "         [38.],\n",
              "         [54.],\n",
              "         [70.]]), torch.Size([5, 1]))"
            ]
          },
          "metadata": {},
          "execution_count": 31
        }
      ]
    },
    {
      "cell_type": "code",
      "source": [
        "# 可以理解为，axis=几，将该轴元素求和，结果维度取消这一轴\n",
        "# 例如shape[5,4]，axis=0即第0轴，结果维度为[4]   shape[2,5,4],axis=[0,1]，结果维度为[4]\n",
        "# keepdims = True 可以保留该轴为1，例如  shape[2,5,4],axis=[0,1]，keepdims=True,  维度为[1,1,4]"
      ],
      "metadata": {
        "id": "iTAzTrs63JGj"
      },
      "execution_count": null,
      "outputs": []
    },
    {
      "cell_type": "code",
      "source": [
        "# 通过广播将A除以sum_A\n",
        "A / sum_A"
      ],
      "metadata": {
        "id": "cegyE-HhmNT6",
        "outputId": "5e01a6f0-717d-4ac9-aac8-d3d89f643ec2",
        "colab": {
          "base_uri": "https://localhost:8080/"
        }
      },
      "execution_count": null,
      "outputs": [
        {
          "output_type": "execute_result",
          "data": {
            "text/plain": [
              "tensor([[0.0000, 0.1667, 0.3333, 0.5000],\n",
              "        [0.1818, 0.2273, 0.2727, 0.3182],\n",
              "        [0.2105, 0.2368, 0.2632, 0.2895],\n",
              "        [0.2222, 0.2407, 0.2593, 0.2778],\n",
              "        [0.2286, 0.2429, 0.2571, 0.2714]])"
            ]
          },
          "metadata": {},
          "execution_count": 32
        }
      ]
    },
    {
      "cell_type": "code",
      "source": [
        "# 某个轴计算A元素的累计总和\n",
        "A.cumsum(axis=0)"
      ],
      "metadata": {
        "id": "e3hmO1zVma1o",
        "outputId": "ea697014-87c3-4e38-d028-6a07a7d608ac",
        "colab": {
          "base_uri": "https://localhost:8080/"
        }
      },
      "execution_count": null,
      "outputs": [
        {
          "output_type": "execute_result",
          "data": {
            "text/plain": [
              "tensor([[ 0.,  1.,  2.,  3.],\n",
              "        [ 4.,  6.,  8., 10.],\n",
              "        [12., 15., 18., 21.],\n",
              "        [24., 28., 32., 36.],\n",
              "        [40., 45., 50., 55.]])"
            ]
          },
          "metadata": {},
          "execution_count": 33
        }
      ]
    },
    {
      "cell_type": "code",
      "source": [
        "# 点积是相同位置的按元素乘积的和\n",
        "x = torch.arange(4,dtype=torch.float32)\n",
        "y = torch.ones(4,dtype=torch.float32)\n",
        "x,y,torch.dot(x,y)"
      ],
      "metadata": {
        "id": "sbuvtVWznxIi",
        "outputId": "44b97684-37c6-4db4-dd7d-1b5841a3c957",
        "colab": {
          "base_uri": "https://localhost:8080/"
        }
      },
      "execution_count": null,
      "outputs": [
        {
          "output_type": "execute_result",
          "data": {
            "text/plain": [
              "(tensor([0., 1., 2., 3.]), tensor([1., 1., 1., 1.]), tensor(6.))"
            ]
          },
          "metadata": {},
          "execution_count": 34
        }
      ]
    },
    {
      "cell_type": "code",
      "source": [
        "# 可以通过执行按元素乘法，然后进行求和来表示两个向量的点积\n",
        "torch.sum(x*y)"
      ],
      "metadata": {
        "id": "TOjTGNz3pTq2",
        "outputId": "c86be416-0134-43c3-b3ec-6ddeda6ae2e8",
        "colab": {
          "base_uri": "https://localhost:8080/"
        }
      },
      "execution_count": null,
      "outputs": [
        {
          "output_type": "execute_result",
          "data": {
            "text/plain": [
              "tensor(6.)"
            ]
          },
          "metadata": {},
          "execution_count": 35
        }
      ]
    },
    {
      "cell_type": "code",
      "source": [
        "# 矩阵向量积Ax是一个长度为m的列向量\n",
        "A.shape,x.shape,torch.mv(A,x)"
      ],
      "metadata": {
        "id": "S-OuoJgJpure",
        "outputId": "21d38ccb-d991-4f3f-b192-55dd3c9c1da9",
        "colab": {
          "base_uri": "https://localhost:8080/"
        }
      },
      "execution_count": null,
      "outputs": [
        {
          "output_type": "execute_result",
          "data": {
            "text/plain": [
              "(torch.Size([5, 4]), torch.Size([4]), tensor([ 14.,  38.,  62.,  86., 110.]))"
            ]
          },
          "metadata": {},
          "execution_count": 7
        }
      ]
    },
    {
      "cell_type": "code",
      "source": [
        "# 可以将矩阵-矩阵乘法AB看作是简单执行m次矩阵向量积，并将结果拼接在一起，形成一个n*mjuzhen\n",
        "B = torch.ones(4,3)\n",
        "torch.mm(A,B)"
      ],
      "metadata": {
        "id": "yHqinDcvioRN",
        "outputId": "e8d92045-c512-40f4-d39f-545559d2dd30",
        "colab": {
          "base_uri": "https://localhost:8080/"
        }
      },
      "execution_count": null,
      "outputs": [
        {
          "output_type": "execute_result",
          "data": {
            "text/plain": [
              "tensor([[ 6.,  6.,  6.],\n",
              "        [22., 22., 22.],\n",
              "        [38., 38., 38.],\n",
              "        [54., 54., 54.],\n",
              "        [70., 70., 70.]])"
            ]
          },
          "metadata": {},
          "execution_count": 9
        }
      ]
    },
    {
      "cell_type": "code",
      "source": [
        "# 二范数是向量元素平方和的平方根\n",
        "u = torch.tensor([3.0,-4.0])\n",
        "torch.norm(u)"
      ],
      "metadata": {
        "id": "VyZQJAoAjL39",
        "outputId": "84a5ffe0-823e-4bd7-eff3-d725fcc8200b",
        "colab": {
          "base_uri": "https://localhost:8080/"
        }
      },
      "execution_count": null,
      "outputs": [
        {
          "output_type": "execute_result",
          "data": {
            "text/plain": [
              "tensor(5.)"
            ]
          },
          "metadata": {},
          "execution_count": 10
        }
      ]
    },
    {
      "cell_type": "code",
      "source": [
        "# 一范数，向量元素的绝对值之和\n",
        "torch.abs(u).sum()"
      ],
      "metadata": {
        "id": "-WKkfbqBloMm",
        "outputId": "ef78d910-ec60-4c4b-b714-c92dea28fb21",
        "colab": {
          "base_uri": "https://localhost:8080/"
        }
      },
      "execution_count": null,
      "outputs": [
        {
          "output_type": "execute_result",
          "data": {
            "text/plain": [
              "tensor(7.)"
            ]
          },
          "metadata": {},
          "execution_count": 12
        }
      ]
    },
    {
      "cell_type": "code",
      "source": [
        "# 矩阵的F范数，矩阵元素平方和的平方根\n",
        "torch.norm(torch.ones((4,9)))"
      ],
      "metadata": {
        "id": "60MkcJtpmnS3",
        "outputId": "01e7c62a-4fbf-43f4-acd9-8a101aa132ef",
        "colab": {
          "base_uri": "https://localhost:8080/"
        }
      },
      "execution_count": null,
      "outputs": [
        {
          "output_type": "execute_result",
          "data": {
            "text/plain": [
              "tensor(6.)"
            ]
          },
          "metadata": {},
          "execution_count": 13
        }
      ]
    },
    {
      "cell_type": "code",
      "source": [
        "# 根据索引访问矩阵\n",
        "y = torch.arange(10).reshape(5,2)\n",
        "index = torch.tensor([1,4])\n",
        "y[index]"
      ],
      "metadata": {
        "colab": {
          "base_uri": "https://localhost:8080/"
        },
        "id": "CAQQWVd4LlaZ",
        "outputId": "51da088a-ab10-4393-aa55-4520777ad89b"
      },
      "execution_count": 9,
      "outputs": [
        {
          "output_type": "execute_result",
          "data": {
            "text/plain": [
              "tensor([[2, 3],\n",
              "        [8, 9]])"
            ]
          },
          "metadata": {},
          "execution_count": 9
        }
      ]
    },
    {
      "cell_type": "code",
      "source": [
        "# 理解pytorch中的gather()函数\n",
        "a = torch.arange(15).view(3,5)\n",
        "a"
      ],
      "metadata": {
        "colab": {
          "base_uri": "https://localhost:8080/"
        },
        "id": "E3YL2I89MdxD",
        "outputId": "85035137-1a27-4c84-e16f-92893e47b532"
      },
      "execution_count": 4,
      "outputs": [
        {
          "output_type": "execute_result",
          "data": {
            "text/plain": [
              "tensor([[ 0,  1,  2,  3,  4],\n",
              "        [ 5,  6,  7,  8,  9],\n",
              "        [10, 11, 12, 13, 14]])"
            ]
          },
          "metadata": {},
          "execution_count": 4
        }
      ]
    },
    {
      "cell_type": "code",
      "source": [
        "# 二维矩阵上gather()函数\n",
        "b = torch.zeros_like(a)\n",
        "b[1][2] = 1\n",
        "b[0][0] = 1\n",
        "b"
      ],
      "metadata": {
        "colab": {
          "base_uri": "https://localhost:8080/"
        },
        "id": "PTCL8qfkM6nz",
        "outputId": "335406b3-88a3-4430-846a-87c4158364c9"
      },
      "execution_count": 5,
      "outputs": [
        {
          "output_type": "execute_result",
          "data": {
            "text/plain": [
              "tensor([[1, 0, 0, 0, 0],\n",
              "        [0, 0, 1, 0, 0],\n",
              "        [0, 0, 0, 0, 0]])"
            ]
          },
          "metadata": {},
          "execution_count": 5
        }
      ]
    },
    {
      "cell_type": "code",
      "source": [
        "c = a.gather(0,b)  # dim=0   b相当于index索引，dim=0，即对0轴做出改变，a，b，\n",
        "#                   c分别对应\n",
        "d = a.gather(1,b)  # dim=1\n",
        "c,d"
      ],
      "metadata": {
        "colab": {
          "base_uri": "https://localhost:8080/"
        },
        "id": "yc7-C6EdNRVz",
        "outputId": "f7937087-f691-47f3-f661-e316bb118dad"
      },
      "execution_count": 6,
      "outputs": [
        {
          "output_type": "execute_result",
          "data": {
            "text/plain": [
              "(tensor([[5, 1, 2, 3, 4],\n",
              "         [0, 1, 7, 3, 4],\n",
              "         [0, 1, 2, 3, 4]]), tensor([[ 1,  0,  0,  0,  0],\n",
              "         [ 5,  5,  6,  5,  5],\n",
              "         [10, 10, 10, 10, 10]]))"
            ]
          },
          "metadata": {},
          "execution_count": 6
        }
      ]
    },
    {
      "cell_type": "code",
      "source": [
        "#三维矩阵上gather()函数\n",
        "a = torch.randint(0,30,(2,3,5))  # randint（）随机分布\n",
        "a"
      ],
      "metadata": {
        "colab": {
          "base_uri": "https://localhost:8080/"
        },
        "id": "0p-di2dyNk0D",
        "outputId": "ce4a852e-b3a2-4638-a3aa-fb69b6124c53"
      },
      "execution_count": 7,
      "outputs": [
        {
          "output_type": "execute_result",
          "data": {
            "text/plain": [
              "tensor([[[22, 29, 11, 18,  2],\n",
              "         [23, 14, 14, 13, 29],\n",
              "         [25,  7, 17, 29, 29]],\n",
              "\n",
              "        [[ 7, 19, 22, 11, 19],\n",
              "         [25, 24,  6, 19,  1],\n",
              "         [12, 14,  3, 29, 22]]])"
            ]
          },
          "metadata": {},
          "execution_count": 7
        }
      ]
    },
    {
      "cell_type": "code",
      "source": [
        "index = torch.LongTensor([[[0,1,2,0,2],[0,0,0,0,0],[1,1,1,1,1]],[[1,2,2,2,2],[0,0,0,0,0],[2,2,2,2,2]]])\n",
        "index"
      ],
      "metadata": {
        "id": "fG5hIE6SeeEu",
        "outputId": "8a984bd3-af86-454b-cae9-9cef16ea17fc",
        "colab": {
          "base_uri": "https://localhost:8080/"
        }
      },
      "execution_count": 8,
      "outputs": [
        {
          "output_type": "execute_result",
          "data": {
            "text/plain": [
              "tensor([[[0, 1, 2, 0, 2],\n",
              "         [0, 0, 0, 0, 0],\n",
              "         [1, 1, 1, 1, 1]],\n",
              "\n",
              "        [[1, 2, 2, 2, 2],\n",
              "         [0, 0, 0, 0, 0],\n",
              "         [2, 2, 2, 2, 2]]])"
            ]
          },
          "metadata": {},
          "execution_count": 8
        }
      ]
    },
    {
      "cell_type": "code",
      "source": [
        "b = torch.gather(a,1,index)\n",
        "b"
      ],
      "metadata": {
        "id": "B27-bFJVfSLF",
        "outputId": "771fbfae-bfd4-4ee6-9065-edec57daf576",
        "colab": {
          "base_uri": "https://localhost:8080/"
        }
      },
      "execution_count": 9,
      "outputs": [
        {
          "output_type": "execute_result",
          "data": {
            "text/plain": [
              "tensor([[[22, 14, 17, 18, 29],\n",
              "         [22, 29, 11, 18,  2],\n",
              "         [23, 14, 14, 13, 29]],\n",
              "\n",
              "        [[25, 14,  3, 29, 22],\n",
              "         [ 7, 19, 22, 11, 19],\n",
              "         [12, 14,  3, 29, 22]]])"
            ]
          },
          "metadata": {},
          "execution_count": 9
        }
      ]
    },
    {
      "cell_type": "code",
      "source": [
        "a = torch.arange(30).reshape(2,3,5)\n",
        "a"
      ],
      "metadata": {
        "id": "22-W20UlhkAt",
        "outputId": "a8a90e8a-ca47-4cb4-b8ec-af05874d919c",
        "colab": {
          "base_uri": "https://localhost:8080/"
        }
      },
      "execution_count": 16,
      "outputs": [
        {
          "output_type": "execute_result",
          "data": {
            "text/plain": [
              "tensor([[[ 0,  1,  2,  3,  4],\n",
              "         [ 5,  6,  7,  8,  9],\n",
              "         [10, 11, 12, 13, 14]],\n",
              "\n",
              "        [[15, 16, 17, 18, 19],\n",
              "         [20, 21, 22, 23, 24],\n",
              "         [25, 26, 27, 28, 29]]])"
            ]
          },
          "metadata": {},
          "execution_count": 16
        }
      ]
    },
    {
      "cell_type": "code",
      "source": [
        "c = torch.gather(a,2,index)\n",
        "c"
      ],
      "metadata": {
        "id": "V_qENK9-gCfG",
        "outputId": "12ee2283-c292-44a7-fb3c-1b61f3d8d749",
        "colab": {
          "base_uri": "https://localhost:8080/"
        }
      },
      "execution_count": 17,
      "outputs": [
        {
          "output_type": "execute_result",
          "data": {
            "text/plain": [
              "tensor([[[ 0,  1,  2,  0,  2],\n",
              "         [ 5,  5,  5,  5,  5],\n",
              "         [11, 11, 11, 11, 11]],\n",
              "\n",
              "        [[16, 17, 17, 17, 17],\n",
              "         [20, 20, 20, 20, 20],\n",
              "         [27, 27, 27, 27, 27]]])"
            ]
          },
          "metadata": {},
          "execution_count": 17
        }
      ]
    },
    {
      "cell_type": "code",
      "source": [
        "# 理解pytorch中的max()和argmax()函数\n",
        "a = torch.tensor([[1,2,3],[3,2,1]])\n",
        "a,a.shape"
      ],
      "metadata": {
        "id": "uMxJvE28iZU9",
        "outputId": "5e8488cb-a0fc-496a-9998-2450c5acbfe7",
        "colab": {
          "base_uri": "https://localhost:8080/"
        }
      },
      "execution_count": 22,
      "outputs": [
        {
          "output_type": "execute_result",
          "data": {
            "text/plain": [
              "(tensor([[1, 2, 3],\n",
              "         [3, 2, 1]]), torch.Size([2, 3]))"
            ]
          },
          "metadata": {},
          "execution_count": 22
        }
      ]
    },
    {
      "cell_type": "code",
      "source": [
        "a.argmax(1)   # argmax()表示寻找最大评分的参量   1表示dim=1"
      ],
      "metadata": {
        "id": "Hb-F6RjdiZLk",
        "outputId": "40c48abf-2573-47db-f5a8-807476b97419",
        "colab": {
          "base_uri": "https://localhost:8080/"
        }
      },
      "execution_count": 20,
      "outputs": [
        {
          "output_type": "execute_result",
          "data": {
            "text/plain": [
              "tensor([2, 0])"
            ]
          },
          "metadata": {},
          "execution_count": 20
        }
      ]
    },
    {
      "cell_type": "code",
      "source": [
        "a.max(1)"
      ],
      "metadata": {
        "id": "DccVQWC_iwWN",
        "outputId": "ed806cc5-720d-423b-e326-9cccb30920f6",
        "colab": {
          "base_uri": "https://localhost:8080/"
        }
      },
      "execution_count": 21,
      "outputs": [
        {
          "output_type": "execute_result",
          "data": {
            "text/plain": [
              "torch.return_types.max(values=tensor([3, 3]), indices=tensor([2, 0]))"
            ]
          },
          "metadata": {},
          "execution_count": 21
        }
      ]
    },
    {
      "cell_type": "code",
      "source": [
        "a.max(1)[1],a.max(1)[0]"
      ],
      "metadata": {
        "id": "MQXUnRoai2RQ",
        "outputId": "36772e71-bc8c-484a-d3ea-f66f4ff92b44",
        "colab": {
          "base_uri": "https://localhost:8080/"
        }
      },
      "execution_count": 32,
      "outputs": [
        {
          "output_type": "execute_result",
          "data": {
            "text/plain": [
              "(tensor([2, 0]), tensor([3, 3]))"
            ]
          },
          "metadata": {},
          "execution_count": 32
        }
      ]
    },
    {
      "cell_type": "code",
      "source": [
        "a.argmax(0)"
      ],
      "metadata": {
        "id": "tTpqzhu9j5Ht",
        "outputId": "c2974a27-d6c7-4f4a-c4ac-e24bceb559e4",
        "colab": {
          "base_uri": "https://localhost:8080/"
        }
      },
      "execution_count": 24,
      "outputs": [
        {
          "output_type": "execute_result",
          "data": {
            "text/plain": [
              "tensor([1, 0, 0])"
            ]
          },
          "metadata": {},
          "execution_count": 24
        }
      ]
    },
    {
      "cell_type": "code",
      "source": [
        "b = torch.tensor([[[1,2,3],[2,3,4]],[[3,5,1],[1,6,8]]])\n",
        "b,b.shape"
      ],
      "metadata": {
        "id": "qBhibMiBkKbN",
        "outputId": "9d3f2ae8-4ed1-4eef-d204-f3703ae6baaa",
        "colab": {
          "base_uri": "https://localhost:8080/"
        }
      },
      "execution_count": 29,
      "outputs": [
        {
          "output_type": "execute_result",
          "data": {
            "text/plain": [
              "(tensor([[[1, 2, 3],\n",
              "          [2, 3, 4]],\n",
              " \n",
              "         [[3, 5, 1],\n",
              "          [1, 6, 8]]]), torch.Size([2, 2, 3]))"
            ]
          },
          "metadata": {},
          "execution_count": 29
        }
      ]
    },
    {
      "cell_type": "code",
      "source": [
        "b.argmax(1)"
      ],
      "metadata": {
        "id": "7aQXW3HckKTf",
        "outputId": "427aeee5-1394-4088-bfc6-c9ca51cc7a4c",
        "colab": {
          "base_uri": "https://localhost:8080/"
        }
      },
      "execution_count": 28,
      "outputs": [
        {
          "output_type": "execute_result",
          "data": {
            "text/plain": [
              "tensor([[1, 1, 1],\n",
              "        [0, 1, 1]])"
            ]
          },
          "metadata": {},
          "execution_count": 28
        }
      ]
    },
    {
      "cell_type": "code",
      "source": [
        "b.argmax(2)"
      ],
      "metadata": {
        "id": "gxKF3Y-6k3_d",
        "outputId": "39191769-5252-4aa4-d44b-6f58647071cc",
        "colab": {
          "base_uri": "https://localhost:8080/"
        }
      },
      "execution_count": 30,
      "outputs": [
        {
          "output_type": "execute_result",
          "data": {
            "text/plain": [
              "tensor([[2, 2],\n",
              "        [1, 2]])"
            ]
          },
          "metadata": {},
          "execution_count": 30
        }
      ]
    },
    {
      "cell_type": "code",
      "source": [
        "b.max(1)"
      ],
      "metadata": {
        "id": "wOogTWLZk3km",
        "outputId": "676d8952-719f-49bf-a73f-06423cd8fe47",
        "colab": {
          "base_uri": "https://localhost:8080/"
        }
      },
      "execution_count": 31,
      "outputs": [
        {
          "output_type": "execute_result",
          "data": {
            "text/plain": [
              "torch.return_types.max(values=tensor([[2, 3, 4],\n",
              "        [3, 6, 8]]), indices=tensor([[1, 1, 1],\n",
              "        [0, 1, 1]]))"
            ]
          },
          "metadata": {},
          "execution_count": 31
        }
      ]
    },
    {
      "cell_type": "code",
      "source": [
        "b.argmax(0)"
      ],
      "metadata": {
        "id": "MsZXJwgulAid",
        "outputId": "ab4d1116-97ed-454a-b56f-742faf4c9c8e",
        "colab": {
          "base_uri": "https://localhost:8080/"
        }
      },
      "execution_count": 33,
      "outputs": [
        {
          "output_type": "execute_result",
          "data": {
            "text/plain": [
              "tensor([[1, 1, 0],\n",
              "        [0, 1, 1]])"
            ]
          },
          "metadata": {},
          "execution_count": 33
        }
      ]
    },
    {
      "cell_type": "code",
      "source": [
        "b.max(0)"
      ],
      "metadata": {
        "id": "iIHU__iylcUW",
        "outputId": "6346e2af-132e-443f-bcce-cdea6a300d0c",
        "colab": {
          "base_uri": "https://localhost:8080/"
        }
      },
      "execution_count": 34,
      "outputs": [
        {
          "output_type": "execute_result",
          "data": {
            "text/plain": [
              "torch.return_types.max(values=tensor([[3, 5, 3],\n",
              "        [2, 6, 8]]), indices=tensor([[1, 1, 0],\n",
              "        [0, 1, 1]]))"
            ]
          },
          "metadata": {},
          "execution_count": 34
        }
      ]
    },
    {
      "cell_type": "code",
      "source": [
        "# item()函数\n",
        "a = torch.Tensor([1, 2, 3])\n",
        "print('a[0]:', a[0])  # 直接取索引返回的是tensor数据\n",
        "print('a[0].item():', a[0].item()) "
      ],
      "metadata": {
        "id": "X43i6RRelxL-",
        "outputId": "00a192c1-7b59-4401-8f29-5bacf0e7af32",
        "colab": {
          "base_uri": "https://localhost:8080/"
        }
      },
      "execution_count": 35,
      "outputs": [
        {
          "output_type": "stream",
          "name": "stdout",
          "text": [
            "a[0]: tensor(1.)\n",
            "a[0].item(): 1.0\n"
          ]
        }
      ]
    },
    {
      "cell_type": "markdown",
      "source": [
        "# 06 **矩阵计算**"
      ],
      "metadata": {
        "id": "TdNCGJx0JlUb"
      }
    },
    {
      "cell_type": "code",
      "source": [
        "# 标量导数\n",
        "# torch中默认log是以e为底的\n"
      ],
      "metadata": {
        "id": "rz0Fz0b3Jv7O"
      },
      "execution_count": null,
      "outputs": []
    }
  ]
}
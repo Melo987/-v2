{
  "nbformat": 4,
  "nbformat_minor": 0,
  "metadata": {
    "colab": {
      "name": "数据操作实现.ipynb",
      "provenance": [],
      "authorship_tag": "ABX9TyMwde56GTtQNg7dMLofKsMX",
      "include_colab_link": true
    },
    "kernelspec": {
      "name": "python3",
      "display_name": "Python 3"
    },
    "language_info": {
      "name": "python"
    }
  },
  "cells": [
    {
      "cell_type": "markdown",
      "metadata": {
        "id": "view-in-github",
        "colab_type": "text"
      },
      "source": [
        "<a href=\"https://colab.research.google.com/github/Melo987/-v2/blob/main/%E6%95%B0%E6%8D%AE%E6%93%8D%E4%BD%9C%E5%AE%9E%E7%8E%B0.ipynb\" target=\"_parent\"><img src=\"https://colab.research.google.com/assets/colab-badge.svg\" alt=\"Open In Colab\"/></a>"
      ]
    },
    {
      "cell_type": "code",
      "source": [
        "import torch\n"
      ],
      "metadata": {
        "id": "oqKc8FF86-3M"
      },
      "execution_count": null,
      "outputs": []
    },
    {
      "cell_type": "code",
      "source": [
        "# 张量表示一个数值组成的数组，这个数组可能有多个维度\n",
        "x = torch.arange(12)\n",
        "x # jupyter写法，后默认为第一行为jupyter写法\n",
        "print(x) # py写法，后默认第二行为py写法\n"
      ],
      "metadata": {
        "id": "ohH-58he7Pp7",
        "outputId": "94c706cd-629e-44d5-8f35-4f3fbd17450d",
        "colab": {
          "base_uri": "https://localhost:8080/"
        }
      },
      "execution_count": 5,
      "outputs": [
        {
          "output_type": "stream",
          "name": "stdout",
          "text": [
            "tensor([ 0,  1,  2,  3,  4,  5,  6,  7,  8,  9, 10, 11])\n"
          ]
        }
      ]
    },
    {
      "cell_type": "code",
      "source": [
        "# 可以通过shape属性访问张量的形状和张量元素中元素的总数\n",
        "x.shape\n",
        "print(x.shape)\n"
      ],
      "metadata": {
        "id": "ZBydAf-i9zVc",
        "outputId": "e989f391-33a5-446d-a479-825cc9b0ecf9",
        "colab": {
          "base_uri": "https://localhost:8080/"
        }
      },
      "execution_count": 8,
      "outputs": [
        {
          "output_type": "stream",
          "name": "stdout",
          "text": [
            "torch.Size([12])\n"
          ]
        }
      ]
    },
    {
      "cell_type": "code",
      "source": [
        "x.numel()\n",
        "print(x.numel())\n"
      ],
      "metadata": {
        "id": "Kok4CzyZ-cij",
        "outputId": "7dbe8306-1a66-46cf-ea23-0b6974a49817",
        "colab": {
          "base_uri": "https://localhost:8080/"
        }
      },
      "execution_count": 12,
      "outputs": [
        {
          "output_type": "stream",
          "name": "stdout",
          "text": [
            "12\n"
          ]
        }
      ]
    },
    {
      "cell_type": "code",
      "source": [
        "# 改变张量的形状而不改变元素数量和元素值，可以调用reshape函数\n",
        "# x = x.reshape(3,4)\n",
        "# x\n",
        "\n",
        "x=x.reshape(3,4)\n",
        "print(x)"
      ],
      "metadata": {
        "id": "iAXJ1A9Z-oLx",
        "outputId": "26071990-7d69-41d9-cd6b-d0b3a057c949",
        "colab": {
          "base_uri": "https://localhost:8080/"
        }
      },
      "execution_count": 14,
      "outputs": [
        {
          "output_type": "stream",
          "name": "stdout",
          "text": [
            "tensor([[ 0,  1,  2,  3],\n",
            "        [ 4,  5,  6,  7],\n",
            "        [ 8,  9, 10, 11]])\n"
          ]
        }
      ]
    },
    {
      "cell_type": "code",
      "source": [
        "# 使用全0、全1、其他常量或者从特地给分不中随机采样的数字\n",
        "torch.zeros(2,3,4)\n",
        "torch.ones(1,2,3)\n",
        "torch.randn(2,3,4)\n",
        "\n",
        "y=torch.zeros(2,3,4)\n",
        "z=torch.ones(1,2,3)\n",
        "u=torch.randn(2,3,4)\n",
        "print(y,z,u)"
      ],
      "metadata": {
        "id": "7c0DBhy3_Yg5",
        "outputId": "2754a927-0d79-4cbf-d6cd-b5b3eac5fcdd",
        "colab": {
          "base_uri": "https://localhost:8080/"
        }
      },
      "execution_count": 20,
      "outputs": [
        {
          "output_type": "stream",
          "name": "stdout",
          "text": [
            "tensor([[[0., 0., 0., 0.],\n",
            "         [0., 0., 0., 0.],\n",
            "         [0., 0., 0., 0.]],\n",
            "\n",
            "        [[0., 0., 0., 0.],\n",
            "         [0., 0., 0., 0.],\n",
            "         [0., 0., 0., 0.]]]) tensor([[[1., 1., 1.],\n",
            "         [1., 1., 1.]]]) tensor([[[-0.4310,  0.1812, -0.4377,  0.7276],\n",
            "         [ 0.6530,  1.0973,  0.6233,  1.8448],\n",
            "         [ 0.7096,  0.9681,  0.1419,  0.0351]],\n",
            "\n",
            "        [[-0.3618,  0.2032, -1.7601, -0.2539],\n",
            "         [ 0.0267,  0.9878, -0.0237,  1.3831],\n",
            "         [ 0.9830, -1.0045,  0.9861,  1.4473]]])\n"
          ]
        }
      ]
    },
    {
      "cell_type": "code",
      "source": [
        "# 通过提供包含数值的python列表（或嵌套列表）来为所需张量中的每个元素赋予确定值\n",
        "torch.tensor([[1,2,3,4],[1,2,4,3],[4,3,2,1]])\n",
        "q=torch.tensor([[1,2,3,4],[1,2,4,3],[4,3,2,1]])\n",
        "print(q)"
      ],
      "metadata": {
        "id": "I397g_ueBGjR",
        "outputId": "82ebffad-64e7-4564-c3d1-de2f6d5b09f4",
        "colab": {
          "base_uri": "https://localhost:8080/"
        }
      },
      "execution_count": 22,
      "outputs": [
        {
          "output_type": "stream",
          "name": "stdout",
          "text": [
            "tensor([[1, 2, 3, 4],\n",
            "        [1, 2, 4, 3],\n",
            "        [4, 3, 2, 1]])\n"
          ]
        }
      ]
    },
    {
      "cell_type": "code",
      "source": [
        ""
      ],
      "metadata": {
        "id": "zzzOREESEtEn"
      },
      "execution_count": null,
      "outputs": []
    }
  ]
}
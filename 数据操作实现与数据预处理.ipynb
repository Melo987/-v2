{
  "nbformat": 4,
  "nbformat_minor": 0,
  "metadata": {
    "colab": {
      "name": "数据操作实现.ipynb",
      "provenance": [],
      "authorship_tag": "ABX9TyPRYWAOcxvQhMFMWm0/kI81",
      "include_colab_link": true
    },
    "kernelspec": {
      "name": "python3",
      "display_name": "Python 3"
    },
    "language_info": {
      "name": "python"
    }
  },
  "cells": [
    {
      "cell_type": "markdown",
      "metadata": {
        "id": "view-in-github",
        "colab_type": "text"
      },
      "source": [
        "<a href=\"https://colab.research.google.com/github/Melo987/-v2/blob/main/%E6%95%B0%E6%8D%AE%E6%93%8D%E4%BD%9C%E5%AE%9E%E7%8E%B0%E4%B8%8E%E6%95%B0%E6%8D%AE%E9%A2%84%E5%A4%84%E7%90%86.ipynb\" target=\"_parent\"><img src=\"https://colab.research.google.com/assets/colab-badge.svg\" alt=\"Open In Colab\"/></a>"
      ]
    },
    {
      "cell_type": "code",
      "source": [
        "import torch\n"
      ],
      "metadata": {
        "id": "oqKc8FF86-3M"
      },
      "execution_count": 5,
      "outputs": []
    },
    {
      "cell_type": "code",
      "source": [
        "# 张量表示一个数值组成的数组，这个数组可能有多个维度\n",
        "x = torch.arange(12)\n",
        "x # jupyter写法，后默认为第一行为jupyter写法\n",
        "print(x) # py写法，后默认第二行为py写法\n"
      ],
      "metadata": {
        "colab": {
          "base_uri": "https://localhost:8080/"
        },
        "id": "ohH-58he7Pp7",
        "outputId": "94c706cd-629e-44d5-8f35-4f3fbd17450d"
      },
      "execution_count": 5,
      "outputs": [
        {
          "output_type": "stream",
          "name": "stdout",
          "text": [
            "tensor([ 0,  1,  2,  3,  4,  5,  6,  7,  8,  9, 10, 11])\n"
          ]
        }
      ]
    },
    {
      "cell_type": "code",
      "source": [
        "# 可以通过shape属性访问张量的形状和张量元素中元素的总数\n",
        "x.shape\n",
        "print(x.shape)\n"
      ],
      "metadata": {
        "colab": {
          "base_uri": "https://localhost:8080/"
        },
        "id": "ZBydAf-i9zVc",
        "outputId": "e989f391-33a5-446d-a479-825cc9b0ecf9"
      },
      "execution_count": 8,
      "outputs": [
        {
          "output_type": "stream",
          "name": "stdout",
          "text": [
            "torch.Size([12])\n"
          ]
        }
      ]
    },
    {
      "cell_type": "code",
      "source": [
        "x.numel()\n",
        "print(x.numel())\n"
      ],
      "metadata": {
        "colab": {
          "base_uri": "https://localhost:8080/"
        },
        "id": "Kok4CzyZ-cij",
        "outputId": "7dbe8306-1a66-46cf-ea23-0b6974a49817"
      },
      "execution_count": 12,
      "outputs": [
        {
          "output_type": "stream",
          "name": "stdout",
          "text": [
            "12\n"
          ]
        }
      ]
    },
    {
      "cell_type": "code",
      "source": [
        "# 改变张量的形状而不改变元素数量和元素值，可以调用reshape函数\n",
        "# x = x.reshape(3,4)\n",
        "# x\n",
        "\n",
        "x=x.reshape(3,4)\n",
        "print(x)"
      ],
      "metadata": {
        "colab": {
          "base_uri": "https://localhost:8080/"
        },
        "id": "iAXJ1A9Z-oLx",
        "outputId": "26071990-7d69-41d9-cd6b-d0b3a057c949"
      },
      "execution_count": 14,
      "outputs": [
        {
          "output_type": "stream",
          "name": "stdout",
          "text": [
            "tensor([[ 0,  1,  2,  3],\n",
            "        [ 4,  5,  6,  7],\n",
            "        [ 8,  9, 10, 11]])\n"
          ]
        }
      ]
    },
    {
      "cell_type": "code",
      "source": [
        "# 使用全0、全1、其他常量或者从特地给分不中随机采样的数字\n",
        "torch.zeros(2,3,4)\n",
        "torch.ones(1,2,3)\n",
        "torch.randn(2,3,4)\n",
        "\n",
        "y=torch.zeros(2,3,4)\n",
        "z=torch.ones(1,2,3)\n",
        "u=torch.randn(2,3,4)\n",
        "print(y,z,u)"
      ],
      "metadata": {
        "colab": {
          "base_uri": "https://localhost:8080/"
        },
        "id": "7c0DBhy3_Yg5",
        "outputId": "2754a927-0d79-4cbf-d6cd-b5b3eac5fcdd"
      },
      "execution_count": 20,
      "outputs": [
        {
          "output_type": "stream",
          "name": "stdout",
          "text": [
            "tensor([[[0., 0., 0., 0.],\n",
            "         [0., 0., 0., 0.],\n",
            "         [0., 0., 0., 0.]],\n",
            "\n",
            "        [[0., 0., 0., 0.],\n",
            "         [0., 0., 0., 0.],\n",
            "         [0., 0., 0., 0.]]]) tensor([[[1., 1., 1.],\n",
            "         [1., 1., 1.]]]) tensor([[[-0.4310,  0.1812, -0.4377,  0.7276],\n",
            "         [ 0.6530,  1.0973,  0.6233,  1.8448],\n",
            "         [ 0.7096,  0.9681,  0.1419,  0.0351]],\n",
            "\n",
            "        [[-0.3618,  0.2032, -1.7601, -0.2539],\n",
            "         [ 0.0267,  0.9878, -0.0237,  1.3831],\n",
            "         [ 0.9830, -1.0045,  0.9861,  1.4473]]])\n"
          ]
        }
      ]
    },
    {
      "cell_type": "code",
      "source": [
        "# 通过提供包含数值的python列表（或嵌套列表）来为所需张量中的每个元素赋予确定值\n",
        "torch.tensor([[1,2,3,4],[1,2,4,3],[4,3,2,1]])\n",
        "q=torch.tensor([[1,2,3,4],[1,2,4,3],[4,3,2,1]])  #二维\n",
        "\n",
        "print(q.shape) "
      ],
      "metadata": {
        "colab": {
          "base_uri": "https://localhost:8080/"
        },
        "id": "I397g_ueBGjR",
        "outputId": "bea2a59c-446f-45cf-8c42-248eb5bd9109"
      },
      "execution_count": 8,
      "outputs": [
        {
          "output_type": "stream",
          "name": "stdout",
          "text": [
            "torch.Size([3, 4])\n"
          ]
        }
      ]
    },
    {
      "cell_type": "code",
      "source": [
        "# 常见的标准算术运算符+ - * / ** 都可以升级为按元素计算\n",
        "x = torch.tensor([1.0,2,4,8])   # 1.0为浮点数，其余为整数\n",
        "y = torch.tensor([2,2,2,2])\n",
        "x+y,x-y,x*y,x/y,x**y\n",
        "\n"
      ],
      "metadata": {
        "colab": {
          "base_uri": "https://localhost:8080/"
        },
        "id": "zzzOREESEtEn",
        "outputId": "0b11be08-91bd-486e-e586-c0deea7bb604"
      },
      "execution_count": 9,
      "outputs": [
        {
          "output_type": "execute_result",
          "data": {
            "text/plain": [
              "(tensor([ 3.,  4.,  6., 10.]),\n",
              " tensor([-1.,  0.,  2.,  6.]),\n",
              " tensor([ 2.,  4.,  8., 16.]),\n",
              " tensor([0.5000, 1.0000, 2.0000, 4.0000]),\n",
              " tensor([ 1.,  4., 16., 64.]))"
            ]
          },
          "metadata": {},
          "execution_count": 9
        }
      ]
    },
    {
      "cell_type": "code",
      "source": [
        "# 把多个张量连结在一起\n",
        "X = torch.arange(12, dtype=torch.float32).reshape((3,4))\n",
        "Y = torch.tensor([[2.0, 1, 4, 3], [1, 2, 3, 4], [4, 3, 2, 1]])\n",
        "torch.cat((X, Y), dim=0), torch.cat((X, Y), dim=1)  # dim=0表示按行相加，dim=1表示按列\n",
        "#连结concatenate，将他们端到端堆叠以形成更大的张量"
      ],
      "metadata": {
        "id": "cQxyRztYfBpq",
        "outputId": "2ab3d17b-34a3-4eec-8d6c-eee0185b6c1b",
        "colab": {
          "base_uri": "https://localhost:8080/"
        }
      },
      "execution_count": 17,
      "outputs": [
        {
          "output_type": "execute_result",
          "data": {
            "text/plain": [
              "(tensor([[ 0.,  1.,  2.,  3.],\n",
              "         [ 4.,  5.,  6.,  7.],\n",
              "         [ 8.,  9., 10., 11.],\n",
              "         [ 2.,  1.,  4.,  3.],\n",
              "         [ 1.,  2.,  3.,  4.],\n",
              "         [ 4.,  3.,  2.,  1.]]),\n",
              " tensor([[ 0.,  1.,  2.,  3.,  2.,  1.,  4.,  3.],\n",
              "         [ 4.,  5.,  6.,  7.,  1.,  2.,  3.,  4.],\n",
              "         [ 8.,  9., 10., 11.,  4.,  3.,  2.,  1.]]))"
            ]
          },
          "metadata": {},
          "execution_count": 17
        }
      ]
    },
    {
      "cell_type": "code",
      "source": [
        "# 通过逻辑运算符构建二元张量\n",
        "X == Y"
      ],
      "metadata": {
        "id": "eTJo8khtiA2I",
        "outputId": "7afb876f-bed6-462a-b9e7-eaccdde6dbef",
        "colab": {
          "base_uri": "https://localhost:8080/"
        }
      },
      "execution_count": 18,
      "outputs": [
        {
          "output_type": "execute_result",
          "data": {
            "text/plain": [
              "tensor([[False,  True, False,  True],\n",
              "        [False, False, False, False],\n",
              "        [False, False, False, False]])"
            ]
          },
          "metadata": {},
          "execution_count": 18
        }
      ]
    },
    {
      "cell_type": "code",
      "source": [
        "# 对张量中所有元素进行求和会产生一个只有一个元素的张量\n",
        "X.sum()"
      ],
      "metadata": {
        "id": "u682iOufiWWI",
        "outputId": "83e7549b-29d0-41c1-9b5e-ac6651975140",
        "colab": {
          "base_uri": "https://localhost:8080/"
        }
      },
      "execution_count": 19,
      "outputs": [
        {
          "output_type": "execute_result",
          "data": {
            "text/plain": [
              "tensor(66.)"
            ]
          },
          "metadata": {},
          "execution_count": 19
        }
      ]
    },
    {
      "cell_type": "code",
      "source": [
        "# 即使形状不同，仍然可以通过调用广播机制（broadcasting mechanism）来执行按元素操作\n",
        "a = torch.arange(3).reshape((3,1))\n",
        "b = torch.arange(2).reshape((1,2))\n",
        "a,b"
      ],
      "metadata": {
        "id": "080RmmULikdX",
        "outputId": "26b579c5-d248-4872-e5b4-457376bbb3ad",
        "colab": {
          "base_uri": "https://localhost:8080/"
        }
      },
      "execution_count": 22,
      "outputs": [
        {
          "output_type": "execute_result",
          "data": {
            "text/plain": [
              "(tensor([[0],\n",
              "         [1],\n",
              "         [2]]), tensor([[0, 1]]))"
            ]
          },
          "metadata": {},
          "execution_count": 22
        }
      ]
    },
    {
      "cell_type": "code",
      "source": [
        "a+b"
      ],
      "metadata": {
        "id": "-q-rXUxoj8pD",
        "outputId": "69d0b58a-ff00-4783-cd99-1f661a2a486e",
        "colab": {
          "base_uri": "https://localhost:8080/"
        }
      },
      "execution_count": 23,
      "outputs": [
        {
          "output_type": "execute_result",
          "data": {
            "text/plain": [
              "tensor([[0, 1],\n",
              "        [1, 2],\n",
              "        [2, 3]])"
            ]
          },
          "metadata": {},
          "execution_count": 23
        }
      ]
    },
    {
      "cell_type": "code",
      "source": [
        "# 可以用[-1]选择最后一个元素，可以用[1:3]选择第二个和第三个元素\n",
        "X[-1],X[1:3],X[1:3,1:3]"
      ],
      "metadata": {
        "id": "Qp-0YxbEj_H7",
        "outputId": "8d035c15-0c9e-4004-beff-5954b18be2b3",
        "colab": {
          "base_uri": "https://localhost:8080/"
        }
      },
      "execution_count": 26,
      "outputs": [
        {
          "output_type": "execute_result",
          "data": {
            "text/plain": [
              "(tensor([ 8.,  9., 10., 11.]), tensor([[ 4.,  5.,  6.,  7.],\n",
              "         [ 8.,  9., 10., 11.]]), tensor([[ 5.,  6.],\n",
              "         [ 9., 10.]]))"
            ]
          },
          "metadata": {},
          "execution_count": 26
        }
      ]
    },
    {
      "cell_type": "code",
      "source": [
        "# 通过指定索引将元素写入矩阵\n",
        "X[1,2] = 9\n",
        "X"
      ],
      "metadata": {
        "id": "Isk6XHeekvZP",
        "outputId": "a15d991b-3d5c-4c3c-edda-07d1e5cc4aeb",
        "colab": {
          "base_uri": "https://localhost:8080/"
        }
      },
      "execution_count": 27,
      "outputs": [
        {
          "output_type": "execute_result",
          "data": {
            "text/plain": [
              "tensor([[ 0.,  1.,  2.,  3.],\n",
              "        [ 4.,  5.,  9.,  7.],\n",
              "        [ 8.,  9., 10., 11.]])"
            ]
          },
          "metadata": {},
          "execution_count": 27
        }
      ]
    },
    {
      "cell_type": "code",
      "source": [
        "# 为多个元素赋相同的值，索引所有元素，赋值\n",
        "X[0:2, : ]=11\n",
        "X"
      ],
      "metadata": {
        "id": "pN6EM1t7lKvJ",
        "outputId": "5019b42a-7691-4afc-dc9b-1b3ef9a9617e",
        "colab": {
          "base_uri": "https://localhost:8080/"
        }
      },
      "execution_count": 28,
      "outputs": [
        {
          "output_type": "execute_result",
          "data": {
            "text/plain": [
              "tensor([[11., 11., 11., 11.],\n",
              "        [11., 11., 11., 11.],\n",
              "        [ 8.,  9., 10., 11.]])"
            ]
          },
          "metadata": {},
          "execution_count": 28
        }
      ]
    },
    {
      "cell_type": "code",
      "source": [
        "# 节省内存\n",
        "before = id(Y)   # id()函数提供了内存中引用对象的确切位置\n",
        "Y = Y + X\n",
        "id(Y) == before   # python首先计算Y+X，为结果分配新的内存，然后使Y指向内存中的这个新位置"
      ],
      "metadata": {
        "id": "B3lCWAanli4b",
        "outputId": "5d2f7fbb-cf3a-4caa-8917-0b20dde80ece",
        "colab": {
          "base_uri": "https://localhost:8080/"
        }
      },
      "execution_count": 30,
      "outputs": [
        {
          "output_type": "execute_result",
          "data": {
            "text/plain": [
              "False"
            ]
          },
          "metadata": {},
          "execution_count": 30
        }
      ]
    },
    {
      "cell_type": "code",
      "source": [
        "# 执行原地操作\n",
        "Z = torch.zeros_like(Y)\n",
        "print('id(Z):', id(Z))\n",
        "Z[:] = X + Y\n",
        "print('id(Z):', id(Z)) # 如果后续计算中没有重复使用X，可以使用X[:]=X+Y或X+=Y来减少操作的内存的开销\n",
        "\n",
        "before = id(X)\n",
        "X += Y\n",
        "id(X) == before"
      ],
      "metadata": {
        "id": "5Kau-wH3oyBa",
        "outputId": "6ebbad67-ef53-45c4-8931-c778a7ec79dd",
        "colab": {
          "base_uri": "https://localhost:8080/"
        }
      },
      "execution_count": 32,
      "outputs": [
        {
          "output_type": "stream",
          "name": "stdout",
          "text": [
            "id(Z): 139871765991504\n",
            "id(Z): 139871765991504\n"
          ]
        },
        {
          "output_type": "execute_result",
          "data": {
            "text/plain": [
              "True"
            ]
          },
          "metadata": {},
          "execution_count": 32
        }
      ]
    },
    {
      "cell_type": "code",
      "source": [
        "# 转换为NumPy张量\n",
        "A = X.numpy()\n",
        "B = torch.tensor(A)\n",
        "type(A),type(B)"
      ],
      "metadata": {
        "id": "hBtyw2ucp0bH",
        "outputId": "b581f41c-6ce1-4dac-c3e3-1c39a27369fc",
        "colab": {
          "base_uri": "https://localhost:8080/"
        }
      },
      "execution_count": 33,
      "outputs": [
        {
          "output_type": "execute_result",
          "data": {
            "text/plain": [
              "(numpy.ndarray, torch.Tensor)"
            ]
          },
          "metadata": {},
          "execution_count": 33
        }
      ]
    },
    {
      "cell_type": "code",
      "source": [
        "# 将大小为1d张量转换为python标量\n",
        "a = torch.tensor(3.5)\n",
        "a,a.item(),float(a),int(a)   # item、float都表示浮点数"
      ],
      "metadata": {
        "id": "_7KDsecurKWS",
        "outputId": "1f0f9e71-8db2-43a3-e51e-b92bb72e43f2",
        "colab": {
          "base_uri": "https://localhost:8080/"
        }
      },
      "execution_count": 34,
      "outputs": [
        {
          "output_type": "execute_result",
          "data": {
            "text/plain": [
              "(tensor(3.5000), 3.5, 3.5, 3)"
            ]
          },
          "metadata": {},
          "execution_count": 34
        }
      ]
    },
    {
      "cell_type": "code",
      "source": [
        ""
      ],
      "metadata": {
        "id": "SVzQbhXKrz6x"
      },
      "execution_count": null,
      "outputs": []
    }
  ]
}
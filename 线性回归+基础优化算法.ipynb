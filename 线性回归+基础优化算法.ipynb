{
  "nbformat": 4,
  "nbformat_minor": 0,
  "metadata": {
    "colab": {
      "name": "线性回归+基础优化算法.ipynb",
      "provenance": [],
      "authorship_tag": "ABX9TyMsl49g5oNuvsQWG+IAFB58",
      "include_colab_link": true
    },
    "kernelspec": {
      "name": "python3",
      "display_name": "Python 3"
    },
    "language_info": {
      "name": "python"
    }
  },
  "cells": [
    {
      "cell_type": "markdown",
      "metadata": {
        "id": "view-in-github",
        "colab_type": "text"
      },
      "source": [
        "<a href=\"https://colab.research.google.com/github/Melo987/-v2/blob/main/%E7%BA%BF%E6%80%A7%E5%9B%9E%E5%BD%92%2B%E5%9F%BA%E7%A1%80%E4%BC%98%E5%8C%96%E7%AE%97%E6%B3%95.ipynb\" target=\"_parent\"><img src=\"https://colab.research.google.com/assets/colab-badge.svg\" alt=\"Open In Colab\"/></a>"
      ]
    },
    {
      "cell_type": "markdown",
      "source": [
        "# **08 线性回归**+**基础优化算法** "
      ],
      "metadata": {
        "id": "51bYBVq2Ghf3"
      }
    },
    {
      "cell_type": "code",
      "execution_count": null,
      "metadata": {
        "id": "QuDdxvwIGPrD"
      },
      "outputs": [],
      "source": [
        ""
      ]
    }
  ]
}